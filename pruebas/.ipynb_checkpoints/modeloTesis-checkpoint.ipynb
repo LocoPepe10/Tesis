{
 "cells": [
  {
   "cell_type": "code",
   "execution_count": null,
   "metadata": {},
   "outputs": [],
   "source": [
    "import numpy as np\n",
    "import pandas as pd\n",
    "from tabulate import tabulate\n",
    "import matplotlib.pyplot as plt\n",
    "import seaborn as sns"
   ]
  },
  {
   "cell_type": "code",
   "execution_count": null,
   "metadata": {},
   "outputs": [],
   "source": [
    "# Cargando Datos\n",
    "\n",
    "datos = pd.read_csv('bdtesis.csv')\n",
    "\n",
    "#Renombre de Columnas\n",
    "\n",
    "datos.columns = [\"c1\", \"c2\", \"c3\", \"c4\" ,\"c5\", \"c6\", \"c7\",\"ARI\"]\n",
    "\n",
    "\n",
    "# Definiendo datos de entrenamiento y test\n",
    "\n",
    "from sklearn.model_selection import train_test_split\n",
    "\n",
    "X_train, X_test, y_train, y_test = train_test_split(\n",
    "                         datos.drop('ARI', axis = 'columns'),\n",
    "                         datos['ARI'],\n",
    "                         train_size   = 0.8,\n",
    "                         random_state = 1234,\n",
    "                         shuffle = True\n",
    "                       )"
   ]
  },
  {
   "cell_type": "code",
   "execution_count": null,
   "metadata": {},
   "outputs": [],
   "source": [
    "# Modelo de entrenamiento\n",
    "from sklearn.svm import SVR\n",
    "regressor = SVR(kernel = 'rbf', gamma='scale', C=1, epsilon=0.5)\n",
    "regressor.fit(X_train, y_train)\n",
    "#print(regressor.score(X_test,y_test))\n",
    "\n",
    "#Validacion Cruzada\n",
    "\n",
    "from sklearn.model_selection import cross_val_score\n",
    "\n",
    "cv_scores = cross_val_score(\n",
    "                estimator = regressor,\n",
    "                X         = X_train,\n",
    "                y         = y_train,\n",
    "                scoring   = 'neg_root_mean_squared_error',\n",
    "                cv        = 5\n",
    "             )\n",
    "\n",
    "print(f\"Métricas validación cruzada: {cv_scores}\")\n",
    "print(f\"Média métricas de validación cruzada: {cv_scores.mean()}\")\n",
    "cv_scores = pd.DataFrame(cv_scores)\n",
    "\n",
    "prediccion = regressor.predict(X_test)\n",
    "\n",
    "\n",
    "\n",
    "print(regressor.score(X_test,y_test))\n",
    "\n",
    "\n",
    "df_predicciones = pd.DataFrame({'ARI' : y_test, 'prediccion' : prediccion})\n",
    "df_predicciones.head()\n",
    "\n",
    "# Error cuadratico medio\n",
    "\n",
    "from sklearn.metrics import mean_squared_error\n",
    "\n",
    "rmse = mean_squared_error(\n",
    "        y_true = y_test,\n",
    "        y_pred = prediccion,\n",
    "        squared = False\n",
    "       )\n",
    "\n",
    "\n",
    "print(f\"Valor Error cuadratico Medio: {rmse}\")\n",
    "\n",
    "\n",
    "#plt.plot(prediccion,color='blue')\n",
    "\n",
    "ar = np.array(y_test)\n",
    "\n",
    "plt.scatter(y=ar, x=prediccion)"
   ]
  },
  {
   "cell_type": "code",
   "execution_count": null,
   "metadata": {},
   "outputs": [],
   "source": []
  }
 ],
 "metadata": {
  "kernelspec": {
   "display_name": "Python 3",
   "language": "python",
   "name": "python3"
  },
  "language_info": {
   "codemirror_mode": {
    "name": "ipython",
    "version": 3
   },
   "file_extension": ".py",
   "mimetype": "text/x-python",
   "name": "python",
   "nbconvert_exporter": "python",
   "pygments_lexer": "ipython3",
   "version": "3.8.3"
  }
 },
 "nbformat": 4,
 "nbformat_minor": 4
}
